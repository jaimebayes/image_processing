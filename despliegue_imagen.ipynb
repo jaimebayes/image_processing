import cv2
from matplotlib import pyplot as plt
import numpy as np
img = cv2.imread('PROBAV.tif')
plt.imshow(img)
plt.show()
img_rgb = cv2.cvtColor(img, cv2.COLOR_BGR2RGB)
plt.imshow(img_rgb)
plt.show()
img_hsv = cv2.cvtColor(img,cv2.COLOR_BGR2HSV)## convert to HSV
plt.figure(figsize=(10, 3))
plt.subplot(1, 2, 1)
plt.imshow(img_rgb)
plt.subplot(1, 2, 2)
plt.imshow(img_hsv)
plt.show()
hue, sat, val = img_hsv[:,:,0], img_hsv[:,:,1], img_hsv[:,:,2]
plt.figure(figsize=(10,8))
plt.subplot(311)                             #plot in the first cell
plt.subplots_adjust(hspace=.5)
plt.title("Hue")
plt.hist(np.ndarray.flatten(hue), bins=180)
plt.subplot(312)                             #plot in the second cell
plt.title("Saturation")
plt.hist(np.ndarray.flatten(sat), bins=128)
plt.subplot(313)                             #plot in the third cell
plt.title("Luminosity Value")
plt.hist(np.ndarray.flatten(val), bins=128)
plt.show()
